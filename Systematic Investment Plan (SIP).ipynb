{
 "cells": [
  {
   "cell_type": "markdown",
   "id": "0e421102",
   "metadata": {},
   "source": [
    "# Systematic Investment Plan (SIP)\n",
    "回測定期定額報酬率"
   ]
  },
  {
   "cell_type": "code",
   "execution_count": 1,
   "id": "2eb16432",
   "metadata": {},
   "outputs": [
    {
     "data": {
      "text/plain": [
       "<AxesSubplot:xlabel='Date'>"
      ]
     },
     "execution_count": 1,
     "metadata": {},
     "output_type": "execute_result"
    },
    {
     "data": {
      "image/png": "[encoded data removed]",
      "text/plain": [
       "<Figure size 432x288 with 1 Axes>"
      ]
     },
     "metadata": {
      "needs_background": "light"
     },
     "output_type": "display_data"
    }
   ],
   "source": [
    "import ffn\n",
    "import pandas as pd\n",
    "\n",
    "ETF0050 = ffn.get('0050.TW', start='2021-01-01')\n",
    "\n",
    "%matplotlib inline\n",
    "ETF0050.plot()"
   ]
  },
  {
   "cell_type": "code",
   "execution_count": 2,
   "id": "cbc23128",
   "metadata": {},
   "outputs": [
    {
     "data": {
      "text/html": [
       "<div>\n",
       "<style scoped>\n",
       "    .dataframe tbody tr th:only-of-type {\n",
       "        vertical-align: middle;\n",
       "    }\n",
       "\n",
       "    .dataframe tbody tr th {\n",
       "        vertical-align: top;\n",
       "    }\n",
       "\n",
       "    .dataframe thead th {\n",
       "        text-align: right;\n",
       "    }\n",
       "</style>\n",
       "<table border=\"1\" class=\"dataframe\">\n",
       "  <thead>\n",
       "    <tr style=\"text-align: right;\">\n",
       "      <th></th>\n",
       "      <th>0050tw</th>\n",
       "      <th>total_cost</th>\n",
       "      <th>total_unit</th>\n",
       "      <th>return_rate</th>\n",
       "    </tr>\n",
       "    <tr>\n",
       "      <th>Date</th>\n",
       "      <th></th>\n",
       "      <th></th>\n",
       "      <th></th>\n",
       "      <th></th>\n",
       "    </tr>\n",
       "  </thead>\n",
       "  <tbody>\n",
       "    <tr>\n",
       "      <th>2021-01-31</th>\n",
       "      <td>128.199997</td>\n",
       "      <td>10000</td>\n",
       "      <td>78.003122</td>\n",
       "      <td>0.000000</td>\n",
       "    </tr>\n",
       "    <tr>\n",
       "      <th>2021-02-28</th>\n",
       "      <td>133.399994</td>\n",
       "      <td>20000</td>\n",
       "      <td>152.965644</td>\n",
       "      <td>0.020281</td>\n",
       "    </tr>\n",
       "    <tr>\n",
       "      <th>2021-03-31</th>\n",
       "      <td>134.750000</td>\n",
       "      <td>30000</td>\n",
       "      <td>227.177147</td>\n",
       "      <td>0.020404</td>\n",
       "    </tr>\n",
       "    <tr>\n",
       "      <th>2021-04-30</th>\n",
       "      <td>140.600006</td>\n",
       "      <td>40000</td>\n",
       "      <td>298.300899</td>\n",
       "      <td>0.048528</td>\n",
       "    </tr>\n",
       "    <tr>\n",
       "      <th>2021-05-31</th>\n",
       "      <td>137.100006</td>\n",
       "      <td>50000</td>\n",
       "      <td>371.240356</td>\n",
       "      <td>0.017941</td>\n",
       "    </tr>\n",
       "    <tr>\n",
       "      <th>2021-06-30</th>\n",
       "      <td>138.949997</td>\n",
       "      <td>60000</td>\n",
       "      <td>443.208692</td>\n",
       "      <td>0.026397</td>\n",
       "    </tr>\n",
       "    <tr>\n",
       "      <th>2021-07-31</th>\n",
       "      <td>136.050003</td>\n",
       "      <td>70000</td>\n",
       "      <td>516.711079</td>\n",
       "      <td>0.004265</td>\n",
       "    </tr>\n",
       "    <tr>\n",
       "      <th>2021-08-31</th>\n",
       "      <td>140.350006</td>\n",
       "      <td>80000</td>\n",
       "      <td>587.961521</td>\n",
       "      <td>0.031505</td>\n",
       "    </tr>\n",
       "    <tr>\n",
       "      <th>2021-09-30</th>\n",
       "      <td>137.050003</td>\n",
       "      <td>90000</td>\n",
       "      <td>660.927590</td>\n",
       "      <td>0.006446</td>\n",
       "    </tr>\n",
       "    <tr>\n",
       "      <th>2021-10-31</th>\n",
       "      <td>135.800003</td>\n",
       "      <td>100000</td>\n",
       "      <td>734.565291</td>\n",
       "      <td>-0.002460</td>\n",
       "    </tr>\n",
       "    <tr>\n",
       "      <th>2021-11-30</th>\n",
       "      <td>138.000000</td>\n",
       "      <td>110000</td>\n",
       "      <td>807.029059</td>\n",
       "      <td>0.012455</td>\n",
       "    </tr>\n",
       "    <tr>\n",
       "      <th>2021-12-31</th>\n",
       "      <td>145.300003</td>\n",
       "      <td>120000</td>\n",
       "      <td>875.852182</td>\n",
       "      <td>0.060511</td>\n",
       "    </tr>\n",
       "  </tbody>\n",
       "</table>\n",
       "</div>"
      ],
      "text/plain": [
       "                0050tw  total_cost  total_unit  return_rate\n",
       "Date                                                       \n",
       "2021-01-31  128.199997       10000   78.003122     0.000000\n",
       "2021-02-28  133.399994       20000  152.965644     0.020281\n",
       "2021-03-31  134.750000       30000  227.177147     0.020404\n",
       "2021-04-30  140.600006       40000  298.300899     0.048528\n",
       "2021-05-31  137.100006       50000  371.240356     0.017941\n",
       "2021-06-30  138.949997       60000  443.208692     0.026397\n",
       "2021-07-31  136.050003       70000  516.711079     0.004265\n",
       "2021-08-31  140.350006       80000  587.961521     0.031505\n",
       "2021-09-30  137.050003       90000  660.927590     0.006446\n",
       "2021-10-31  135.800003      100000  734.565291    -0.002460\n",
       "2021-11-30  138.000000      110000  807.029059     0.012455\n",
       "2021-12-31  145.300003      120000  875.852182     0.060511"
      ]
     },
     "execution_count": 2,
     "metadata": {},
     "output_type": "execute_result"
    }
   ],
   "source": [
    "pmt = 10000\n",
    "\n",
    "ETF0050 = ETF0050.resample('M').last()\n",
    "# ETF0050['unit'] = pmt/ETF0050['0050tw']\n",
    "\n",
    "total_cost_list = []\n",
    "total_cost = 0\n",
    "for i in range(len(ETF0050)):\n",
    "    total_cost += pmt\n",
    "    total_cost_list.append(total_cost)\n",
    "ETF0050['total_cost'] = total_cost_list\n",
    "\n",
    "total_unit_list = []\n",
    "total_unit = 0\n",
    "for i in range(len(ETF0050)):\n",
    "    total_unit += pmt/ETF0050['0050tw'][i]\n",
    "    total_unit_list.append(total_unit)\n",
    "ETF0050['total_unit'] = total_unit_list\n",
    "\n",
    "ETF0050['return_rate'] = ETF0050['0050tw'] * ETF0050['total_unit'] / ETF0050['total_cost'] -1\n",
    "\n",
    "ETF0050"
   ]
  },
  {
   "cell_type": "code",
   "execution_count": 3,
   "id": "be43067b",
   "metadata": {},
   "outputs": [
    {
     "data": {
      "text/plain": [
       "<AxesSubplot:xlabel='Date'>"
      ]
     },
     "execution_count": 3,
     "metadata": {},
     "output_type": "execute_result"
    },
    {
     "data": {
      "image/png": "[encoded data removed]",
      "text/plain": [
       "<Figure size 432x288 with 1 Axes>"
      ]
     },
     "metadata": {
      "needs_background": "light"
     },
     "output_type": "display_data"
    }
   ],
   "source": [
    "ETF0050['return_rate'].plot()"
   ]
  },
  {
   "cell_type": "markdown",
   "id": "5fde500d",
   "metadata": {},
   "source": [
    "## 定期定額 vs. 單筆投資"
   ]
  },
  {
   "cell_type": "code",
   "execution_count": 4,
   "id": "34056dae",
   "metadata": {},
   "outputs": [],
   "source": [
    "def sip(stock, pmt, startdate):\n",
    "    data = ffn.get(stock, start=startdate)\n",
    "    pmt = pmt\n",
    "    data = data.resample('M').last()\n",
    "    data.columns = ['price']\n",
    "    \n",
    "    total_cost_list = []\n",
    "    total_cost = 0\n",
    "    for i in range(len(data)):\n",
    "        total_cost += pmt\n",
    "        total_cost_list.append(total_cost)\n",
    "    data['total_cost'] = total_cost_list\n",
    "    \n",
    "    total_unit_list = []\n",
    "    total_unit = 0\n",
    "    for i in range(len(data)):\n",
    "        total_unit += pmt/data['price'][i]\n",
    "        total_unit_list.append(total_unit)\n",
    "    data['total_unit'] = total_unit_list\n",
    "\n",
    "    data['return_rate'] = data['price'] * data['total_unit'] / data['total_cost'] - 1\n",
    "    print(data)\n",
    "    \n",
    "    returnrate1 = '定期定額報酬率: {}'.format(data['return_rate'][-1])\n",
    "    returnrate2 = '單筆投資報酬率: {}'.format(data['total_cost'][-1] / data['price'][0] * data['price'][-1] / data['total_cost'][-1] -1)\n",
    "    \n",
    "    return returnrate1, returnrate2"
   ]
  },
  {
   "cell_type": "code",
   "execution_count": 5,
   "id": "692543e4",
   "metadata": {},
   "outputs": [
    {
     "name": "stdout",
     "output_type": "stream",
     "text": [
      "                 price  total_cost  total_unit  return_rate\n",
      "Date                                                       \n",
      "2021-01-31  128.199997       10000   78.003122     0.000000\n",
      "2021-02-28  133.399994       20000  152.965644     0.020281\n",
      "2021-03-31  134.750000       30000  227.177147     0.020404\n",
      "2021-04-30  140.600006       40000  298.300899     0.048528\n",
      "2021-05-31  137.100006       50000  371.240356     0.017941\n",
      "2021-06-30  138.949997       60000  443.208692     0.026397\n",
      "2021-07-31  136.050003       70000  516.711079     0.004265\n",
      "2021-08-31  140.350006       80000  587.961521     0.031505\n",
      "2021-09-30  137.050003       90000  660.927590     0.006446\n",
      "2021-10-31  135.800003      100000  734.565291    -0.002460\n",
      "2021-11-30  138.000000      110000  807.029059     0.012455\n",
      "2021-12-31  145.300003      120000  875.852182     0.060511\n"
     ]
    },
    {
     "data": {
      "text/plain": [
       "('定期定額報酬率: 0.06051103971612837', '單筆投資報酬率: 0.13338538619793683')"
      ]
     },
     "execution_count": 5,
     "metadata": {},
     "output_type": "execute_result"
    }
   ],
   "source": [
    "sip('0050.TW', 10000, '2021-01-01')"
   ]
  },
  {
   "cell_type": "code",
   "execution_count": 6,
   "id": "9f51ed68",
   "metadata": {
    "scrolled": true
   },
   "outputs": [
    {
     "name": "stdout",
     "output_type": "stream",
     "text": [
      "                price  total_cost   total_unit  return_rate\n",
      "Date                                                       \n",
      "2021-01-31  73.550003       10000   135.961925     0.000000\n",
      "2021-02-28  77.449997       20000   265.077489     0.026513\n",
      "2021-03-31  77.349998       30000   394.359973     0.016791\n",
      "2021-04-30  80.750000       40000   518.198983     0.046114\n",
      "2021-05-31  78.900002       50000   644.941692     0.017718\n",
      "2021-06-30  79.900002       60000   770.098136     0.025514\n",
      "2021-07-31  78.300003       70000   897.812051     0.004267\n",
      "2021-08-31  80.800003       80000  1021.574423     0.031790\n",
      "2021-09-30  78.550003       90000  1148.881866     0.002719\n",
      "2021-10-31  78.150002      100000  1276.840916    -0.002149\n",
      "2021-11-30  77.900002      110000  1405.210618    -0.004855\n",
      "2021-12-31  81.699997      120000  1527.609644     0.040048\n"
     ]
    },
    {
     "data": {
      "text/plain": [
       "('定期定額報酬率: 0.04004752694700153', '單筆投資報酬率: 0.1108088859051326')"
      ]
     },
     "execution_count": 6,
     "metadata": {},
     "output_type": "execute_result"
    }
   ],
   "source": [
    "sip('006208.TW', 10000, '2021-01-01')"
   ]
  }
 ],
 "metadata": {
  "kernelspec": {
   "display_name": "Python 3 (ipykernel)",
   "language": "python",
   "name": "python3"
  },
  "language_info": {
   "codemirror_mode": {
    "name": "ipython",
    "version": 3
   },
   "file_extension": ".py",
   "mimetype": "text/x-python",
   "name": "python",
   "nbconvert_exporter": "python",
   "pygments_lexer": "ipython3",
   "version": "3.9.1"
  }
 },
 "nbformat": 4,
 "nbformat_minor": 5
}
